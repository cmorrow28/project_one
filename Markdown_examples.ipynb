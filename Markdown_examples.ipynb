{
 "cells": [
  {
   "cell_type": "code",
   "execution_count": 12,
   "id": "9e140f16-22df-4675-bb6c-6f52db8263b0",
   "metadata": {},
   "outputs": [],
   "source": [
    "# 1. Headers"
   ]
  },
  {
   "cell_type": "markdown",
   "id": "655c532e-3c30-4d85-b9a7-adab661275e9",
   "metadata": {},
   "source": [
    "# Heading 1\n",
    "## Heading 2\n",
    "### Heading 3"
   ]
  },
  {
   "cell_type": "code",
   "execution_count": null,
   "id": "1e803cb3-557f-4fc4-b619-a2bf0323897e",
   "metadata": {},
   "outputs": [],
   "source": [
    "# 2. Text Formatting"
   ]
  },
  {
   "cell_type": "code",
   "execution_count": null,
   "id": "e43653e8-4344-405f-9b71-8d83657e97ef",
   "metadata": {},
   "outputs": [],
   "source": [
    "*Italic* or _Italic_\n",
    "**Bold** or __Bold__\n",
    "`Monospace`"
   ]
  },
  {
   "cell_type": "code",
   "execution_count": null,
   "id": "08e01bc0-f099-48b3-bf13-0770bef546d0",
   "metadata": {},
   "outputs": [],
   "source": [
    "# 3. Lists"
   ]
  },
  {
   "cell_type": "markdown",
   "id": "b23cdb85-aa75-45ed-b750-73bc462427a3",
   "metadata": {},
   "source": [
    "- Unordered Item 1\n",
    "- Unordered Item 2\n",
    "\n",
    "1. Ordered Item 1\n",
    "2. Ordered Item 2"
   ]
  },
  {
   "cell_type": "code",
   "execution_count": null,
   "id": "2a11f286-a76e-4ac6-827a-57f2664e1f81",
   "metadata": {},
   "outputs": [],
   "source": [
    "# 4. Links"
   ]
  },
  {
   "cell_type": "markdown",
   "id": "dca5dd6f-c25c-45c9-9b48-cb488a67e6cb",
   "metadata": {},
   "source": [
    "[Link Text](https://www.example.com)"
   ]
  },
  {
   "cell_type": "code",
   "execution_count": null,
   "id": "d311ce8e-b211-425f-94d6-73021b972d04",
   "metadata": {},
   "outputs": [],
   "source": [
    "# Images"
   ]
  },
  {
   "cell_type": "markdown",
   "id": "44c8fa5b-5d70-4268-9133-4e9e97668cb7",
   "metadata": {},
   "source": [
    "> This is a blockquote."
   ]
  },
  {
   "cell_type": "code",
   "execution_count": null,
   "id": "f5373a97-95d6-416a-ba4d-d0b5f67ddee9",
   "metadata": {},
   "outputs": [],
   "source": [
    "# Code Blocks"
   ]
  },
  {
   "cell_type": "markdown",
   "id": "8eb07478-de6c-432f-b55a-875031b2981b",
   "metadata": {},
   "source": [
    "def greet(name):\n",
    "    print(f\"Hello, {name}!\")\n",
    "\n",
    "greet(\"Alice\")"
   ]
  },
  {
   "cell_type": "code",
   "execution_count": null,
   "id": "ee4a2809-12f5-4ca4-9452-1b0c450a454c",
   "metadata": {},
   "outputs": [],
   "source": [
    "# Tables"
   ]
  },
  {
   "cell_type": "markdown",
   "id": "625a2bbe-6aca-4ac3-ac94-bb4137abfbcd",
   "metadata": {},
   "source": [
    "| Header 1 | Header 2 |\n",
    "|----------|----------|\n",
    "| Row 1, Col 1 | Row 1, Col 2 |\n",
    "| Row 2, Col 1 | Row 2, Col 2 |"
   ]
  },
  {
   "cell_type": "code",
   "execution_count": null,
   "id": "6e1c4583-a0e7-44c8-ae8e-92af80fc6f2d",
   "metadata": {},
   "outputs": [],
   "source": []
  }
 ],
 "metadata": {
  "kernelspec": {
   "display_name": "PythonData",
   "language": "python",
   "name": "pythondata"
  },
  "language_info": {
   "codemirror_mode": {
    "name": "ipython",
    "version": 3
   },
   "file_extension": ".py",
   "mimetype": "text/x-python",
   "name": "python",
   "nbconvert_exporter": "python",
   "pygments_lexer": "ipython3",
   "version": "3.11.4"
  }
 },
 "nbformat": 4,
 "nbformat_minor": 5
}
