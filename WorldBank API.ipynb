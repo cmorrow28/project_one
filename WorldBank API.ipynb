{
 "cells": [
  {
   "cell_type": "code",
   "execution_count": 29,
   "id": "6b4a7d11-8017-46db-99a5-e55a6beb8ce4",
   "metadata": {
    "tags": []
   },
   "outputs": [],
   "source": [
    "# Dependencies and setup\n",
    "import matplotlib.pyplot as plt\n",
    "import pandas as pd\n",
    "import numpy as np\n",
    "import requests\n",
    "from pprint import pprint\n",
    "import json\n",
    "from scipy.stats import linregress"
   ]
  },
  {
   "cell_type": "code",
   "execution_count": 30,
   "id": "6b9fdc3e-4a22-4b67-bc33-e6000d0b0203",
   "metadata": {
    "tags": []
   },
   "outputs": [
    {
     "name": "stdout",
     "output_type": "stream",
     "text": [
      "[{'lastupdated': '2023-07-25',\n",
      "  'page': 1,\n",
      "  'pages': 1,\n",
      "  'per_page': 50,\n",
      "  'sourceid': '2',\n",
      "  'total': 1},\n",
      " [{'country': {'id': 'AU', 'value': 'Australia'},\n",
      "   'countryiso3code': 'AUS',\n",
      "   'date': '2020',\n",
      "   'decimal': 0,\n",
      "   'indicator': {'id': 'NY.GDP.MKTP.CD', 'value': 'GDP (current US$)'},\n",
      "   'obs_status': '',\n",
      "   'unit': '',\n",
      "   'value': 1326944627876.87}]]\n",
      "[{'lastupdated': '2023-07-25',\n",
      "  'page': 1,\n",
      "  'pages': 1,\n",
      "  'per_page': 50,\n",
      "  'sourceid': '2',\n",
      "  'total': 1},\n",
      " [{'country': {'id': 'AU', 'value': 'Australia'},\n",
      "   'countryiso3code': 'AUS',\n",
      "   'date': '2021',\n",
      "   'decimal': 0,\n",
      "   'indicator': {'id': 'NY.GDP.MKTP.CD', 'value': 'GDP (current US$)'},\n",
      "   'obs_status': '',\n",
      "   'unit': '',\n",
      "   'value': 1552703151616.01}]]\n",
      "[{'lastupdated': '2023-07-25',\n",
      "  'page': 1,\n",
      "  'pages': 1,\n",
      "  'per_page': 50,\n",
      "  'sourceid': '2',\n",
      "  'total': 1},\n",
      " [{'country': {'id': 'AU', 'value': 'Australia'},\n",
      "   'countryiso3code': 'AUS',\n",
      "   'date': '2022',\n",
      "   'decimal': 0,\n",
      "   'indicator': {'id': 'NY.GDP.MKTP.CD', 'value': 'GDP (current US$)'},\n",
      "   'obs_status': '',\n",
      "   'unit': '',\n",
      "   'value': 1675418665067.09}]]\n",
      "[{'lastupdated': None,\n",
      "  'page': 0,\n",
      "  'pages': 0,\n",
      "  'per_page': 0,\n",
      "  'sourceid': None,\n",
      "  'total': 0},\n",
      " None]\n"
     ]
    }
   ],
   "source": [
    "# Accessing the WorldBank API for GDP\n",
    "url = \"http://api.worldbank.org/v2/country/\"\n",
    "country_code = \"AU\"\n",
    "gdp_indicator = \"NY.GDP.MKTP.CD\"\n",
    "start_year = 2020\n",
    "last_year = 2023\n",
    "\n",
    "gdp_data = []\n",
    "\n",
    "for year in range(start_year, last_year + 1):\n",
    "\n",
    "    gdp_query_url = f\"{url}{country_code}/indicator/{gdp_indicator}?date={year}&format=json\"\n",
    "\n",
    "    gdp_request = (requests.get(gdp_query_url)).json()\n",
    "    \n",
    "    gdp_data.append(gdp_request)\n",
    "        \n",
    "    pprint(gdp_request)"
   ]
  },
  {
   "cell_type": "code",
   "execution_count": 35,
   "id": "5a217158-8a4f-4294-9b6d-68bcafbb0ebe",
   "metadata": {
    "tags": []
   },
   "outputs": [
    {
     "name": "stdout",
     "output_type": "stream",
     "text": [
      "[{'Year': '2020', 'GDP': 1326944627876.87}, {'Year': '2021', 'GDP': 1552703151616.01}, {'Year': '2022', 'GDP': 1675418665067.09}]\n"
     ]
    }
   ],
   "source": [
    "gdp_values = []\n",
    "\n",
    "for data in gdp_data:\n",
    "    if data[1]:\n",
    "        gdp_values.append({\n",
    "            \"Year\": data[1][0][\"date\"],\n",
    "            \"GDP\": data[1][0][\"value\"]\n",
    "        })\n",
    "\n",
    "print(gdp_values)"
   ]
  },
  {
   "cell_type": "code",
   "execution_count": 32,
   "id": "8c7e7405-0f08-436d-b880-4df73803c962",
   "metadata": {},
   "outputs": [
    {
     "name": "stdout",
     "output_type": "stream",
     "text": [
      "[{'lastupdated': '2023-07-25',\n",
      "  'page': 1,\n",
      "  'pages': 1,\n",
      "  'per_page': 50,\n",
      "  'sourceid': '2',\n",
      "  'total': 1},\n",
      " [{'country': {'id': 'AU', 'value': 'Australia'},\n",
      "   'countryiso3code': 'AUS',\n",
      "   'date': '2020',\n",
      "   'decimal': 0,\n",
      "   'indicator': {'id': 'SP.POP.TOTL', 'value': 'Population, total'},\n",
      "   'obs_status': '',\n",
      "   'unit': '',\n",
      "   'value': 25655289}]]\n",
      "[{'lastupdated': '2023-07-25',\n",
      "  'page': 1,\n",
      "  'pages': 1,\n",
      "  'per_page': 50,\n",
      "  'sourceid': '2',\n",
      "  'total': 1},\n",
      " [{'country': {'id': 'AU', 'value': 'Australia'},\n",
      "   'countryiso3code': 'AUS',\n",
      "   'date': '2021',\n",
      "   'decimal': 0,\n",
      "   'indicator': {'id': 'SP.POP.TOTL', 'value': 'Population, total'},\n",
      "   'obs_status': '',\n",
      "   'unit': '',\n",
      "   'value': 25688079}]]\n",
      "[{'lastupdated': '2023-07-25',\n",
      "  'page': 1,\n",
      "  'pages': 1,\n",
      "  'per_page': 50,\n",
      "  'sourceid': '2',\n",
      "  'total': 1},\n",
      " [{'country': {'id': 'AU', 'value': 'Australia'},\n",
      "   'countryiso3code': 'AUS',\n",
      "   'date': '2022',\n",
      "   'decimal': 0,\n",
      "   'indicator': {'id': 'SP.POP.TOTL', 'value': 'Population, total'},\n",
      "   'obs_status': '',\n",
      "   'unit': '',\n",
      "   'value': 25978935}]]\n",
      "[{'lastupdated': None,\n",
      "  'page': 0,\n",
      "  'pages': 0,\n",
      "  'per_page': 0,\n",
      "  'sourceid': None,\n",
      "  'total': 0},\n",
      " None]\n"
     ]
    }
   ],
   "source": [
    "#Accessing the WorldBank API for total population\n",
    "pop_indicator = \"SP.POP.TOTL\"\n",
    "\n",
    "pop_data = []\n",
    "\n",
    "for year in range(start_year, last_year + 1):\n",
    "\n",
    "    pop_query_url = f\"{url}{country_code}/indicator/{pop_indicator}?date={year}&format=json\"\n",
    "\n",
    "    pop_request = (requests.get(pop_query_url)).json()\n",
    "    \n",
    "    pop_data.append(pop_request)\n",
    "        \n",
    "    pprint(pop_request)"
   ]
  },
  {
   "cell_type": "code",
   "execution_count": 33,
   "id": "9600b522-d57e-440a-97d1-9a70a85f2c4b",
   "metadata": {
    "tags": []
   },
   "outputs": [
    {
     "data": {
      "text/plain": [
       "[{'Year': '2020', 'Population Total': 25655289},\n",
       " {'Year': '2021', 'Population Total': 25688079},\n",
       " {'Year': '2022', 'Population Total': 25978935}]"
      ]
     },
     "execution_count": 33,
     "metadata": {},
     "output_type": "execute_result"
    }
   ],
   "source": [
    "pop_values = []\n",
    "\n",
    "for data in pop_data:\n",
    "    if data[1]:\n",
    "        pop_values.append({\n",
    "            \"Year\": data[1][0][\"date\"],\n",
    "            \"Population Total\": data[1][0][\"value\"]\n",
    "        })\n",
    "\n",
    "pop_values"
   ]
  },
  {
   "cell_type": "code",
   "execution_count": 39,
   "id": "7d8da788-ac5d-4575-a14c-bbbde2486bff",
   "metadata": {
    "tags": []
   },
   "outputs": [],
   "source": [
    "#aus_pop_df = pd.DataFrame(pop_values)\n",
    "#aus_merged_data = pd.merge(Australia_grouped_data, aus_pop_df, on=\"Date\", how=\"inner\")"
   ]
  },
  {
   "cell_type": "code",
   "execution_count": null,
   "id": "db4cf35b-5759-4643-9676-804f7424bcc0",
   "metadata": {},
   "outputs": [],
   "source": []
  }
 ],
 "metadata": {
  "kernelspec": {
   "display_name": "Python 3 (ipykernel)",
   "language": "python",
   "name": "python3"
  },
  "language_info": {
   "codemirror_mode": {
    "name": "ipython",
    "version": 3
   },
   "file_extension": ".py",
   "mimetype": "text/x-python",
   "name": "python",
   "nbconvert_exporter": "python",
   "pygments_lexer": "ipython3",
   "version": "3.10.12"
  }
 },
 "nbformat": 4,
 "nbformat_minor": 5
}
