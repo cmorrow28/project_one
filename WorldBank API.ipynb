{
 "cells": [
  {
   "cell_type": "code",
   "execution_count": 11,
   "id": "6b4a7d11-8017-46db-99a5-e55a6beb8ce4",
   "metadata": {
    "tags": []
   },
   "outputs": [],
   "source": [
    "# Dependencies and setup\n",
    "import matplotlib.pyplot as plt\n",
    "import pandas as pd\n",
    "import numpy as np\n",
    "import requests\n",
    "from pprint import pprint\n",
    "import json\n",
    "from scipy.stats import linregress"
   ]
  },
  {
   "cell_type": "code",
   "execution_count": 15,
   "id": "6b9fdc3e-4a22-4b67-bc33-e6000d0b0203",
   "metadata": {
    "tags": []
   },
   "outputs": [
    {
     "name": "stdout",
     "output_type": "stream",
     "text": [
      "[{'lastupdated': '2023-07-25',\n",
      "  'page': 1,\n",
      "  'pages': 1,\n",
      "  'per_page': 50,\n",
      "  'sourceid': '2',\n",
      "  'total': 1},\n",
      " [{'country': {'id': 'AU', 'value': 'Australia'},\n",
      "   'countryiso3code': 'AUS',\n",
      "   'date': '2022',\n",
      "   'decimal': 0,\n",
      "   'indicator': {'id': 'NY.GDP.MKTP.CD', 'value': 'GDP (current US$)'},\n",
      "   'obs_status': '',\n",
      "   'unit': '',\n",
      "   'value': 1675418665067.09}]]\n"
     ]
    }
   ],
   "source": [
    "url = \"http://api.worldbank.org/v2/country/\"\n",
    "country_code = \"AU\"\n",
    "indicator = \"NY.GDP.MKTP.CD\"\n",
    "year = 2022\n",
    "query_url = f\"{url}{country_code}/indicator/{indicator}?date={year}&format=json\"\n",
    "\n",
    "gdp_request = (requests.get(query_url)).json()\n",
    "pprint(GDP_request)"
   ]
  },
  {
   "cell_type": "code",
   "execution_count": 16,
   "id": "5a217158-8a4f-4294-9b6d-68bcafbb0ebe",
   "metadata": {
    "tags": []
   },
   "outputs": [
    {
     "data": {
      "text/plain": [
       "1675418665067.09"
      ]
     },
     "execution_count": 16,
     "metadata": {},
     "output_type": "execute_result"
    }
   ],
   "source": [
    "aus_gdp_value = gdp_request[1][0][\"value\"]\n",
    "aus_gdp_value"
   ]
  },
  {
   "cell_type": "code",
   "execution_count": null,
   "id": "8c7e7405-0f08-436d-b880-4df73803c962",
   "metadata": {},
   "outputs": [],
   "source": []
  }
 ],
 "metadata": {
  "kernelspec": {
   "display_name": "Python 3 (ipykernel)",
   "language": "python",
   "name": "python3"
  },
  "language_info": {
   "codemirror_mode": {
    "name": "ipython",
    "version": 3
   },
   "file_extension": ".py",
   "mimetype": "text/x-python",
   "name": "python",
   "nbconvert_exporter": "python",
   "pygments_lexer": "ipython3",
   "version": "3.10.12"
  }
 },
 "nbformat": 4,
 "nbformat_minor": 5
}
